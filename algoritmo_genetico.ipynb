{
 "cells": [
  {
   "cell_type": "markdown",
   "metadata": {},
   "source": [
    "# Práctica: Algoritmo Genético Simple"
   ]
  },
  {
   "cell_type": "markdown",
   "metadata": {},
   "source": [
    "**Ingeniería Electrónica**\n",
    "\n",
    "**Inteligencia Artificial**\n",
    "\n",
    "**06/05/2020**"
   ]
  },
  {
   "cell_type": "markdown",
   "metadata": {},
   "source": [
    "En esta práctica, se revisa la implementación de una algoritmo de optimización metaheurístico: un algortimo genético. \n",
    "\n",
    "Un **algoritmo genético** (GA) es una técnica de optimización y búsqueda basada en los principios de **Genética y Selección Natural**. Con frecuencia se usa para encontrar soluciones óptimas o casi óptimas para problemas difíciles que de otra manera tomarían mucho tiempo en resolverse. Se utiliza con frecuencia para resolver problemas de optimización, en investigación y machine learning.\n",
    "\n",
    "GA genera una población, los individuos en esta población (a menudo llamados cromosomas) tienen un estado dado. Una vez que se genera la población, el estado de estos individuos se evalúa y califica según su valor. Los mejores individuos son luego tomados y cruzados, con el objetivo de generar \"mejores\" descendientes, para formar la nueva población. En algunos casos, los mejores individuos de la población se preservan para garantizar \"buenos individuos\" en la nueva generación."
   ]
  },
  {
   "cell_type": "markdown",
   "metadata": {},
   "source": [
    "Para explicar esto, se define un problema que consiste en encontrar las rutas factibles entre intersecciones de un mapa utilizando una matriz de adyacencia para representar al mismo.\n",
    "\n",
    "Las funciones básicas de un algoritmo genético son identificadas más adelante."
   ]
  },
  {
   "cell_type": "markdown",
   "metadata": {},
   "source": [
    "## Librerías adicionales\n",
    "\n",
    "Ejecutar los siguientes comandos en la terminal para instalar las librerías necesarias:\n",
    "\n",
    "   * conda install -c anaconda numpy\n",
    "   * conda install -c conda-forge matplotlib\n",
    "   * conda install -c anaconda seaborn"
   ]
  },
  {
   "cell_type": "code",
   "execution_count": 74,
   "metadata": {},
   "outputs": [],
   "source": [
    "import numpy as np\n",
    "import copy\n",
    "import matplotlib.pyplot as plt\n",
    "import seaborn as sns \n",
    "import random"
   ]
  },
  {
   "cell_type": "markdown",
   "metadata": {},
   "source": [
    "## Incializar mapa\n",
    "\n",
    "lo primero es crear un mapa de manera aleatoria.\n",
    "El mapa tendrá la forma de una **matriz de adyacencia** $x$, una matriz **nxn** donde cada fila y columna corresponden a una intersección (vértice) en un mapa.\n",
    "\n",
    "$x_{ij}$ representa la distancia de la posición $i$ a la posición $j$. También podría considerarse como cualquier otra medida que represente un peso, pero se requiere una matriz con valores numéricos.\n",
    "\n",
    "Si no existen conexiones directas entre las intersecciones, se asigna un 0.\n",
    "Por ejemplo, si no es posible ir directamente de $i$ a $j$, entonces $x_{ij}$ = 0. \n"
   ]
  },
  {
   "cell_type": "markdown",
   "metadata": {},
   "source": [
    "<img style=\"float:left;\" src=\"codigo_practica_img/codigo_practica_img1.png\"> </img>"
   ]
  },
  {
   "cell_type": "code",
   "execution_count": 33,
   "metadata": {},
   "outputs": [],
   "source": [
    "def initialize_map (p_zero, N):\n",
    "    #Inicializa el mapa \n",
    "    the_map = np.zeros((N,N))\n",
    "    \n",
    "    for i in range (0,N):\n",
    "        for j in range (0,i):\n",
    "            #Si es mayor al limite se asigna valor aleatorio\n",
    "            if random.random()> p_zero: \n",
    "                the_map[i][j]=random.random()\n",
    "                the_map[j][i]=the_map[i][j]\n",
    "    return the_map"
   ]
  },
  {
   "cell_type": "code",
   "execution_count": 29,
   "metadata": {},
   "outputs": [
    {
     "name": "stdout",
     "output_type": "stream",
     "text": [
      "[[0.         0.19376489 0.20495768 0.59837395 0.2804574 ]\n",
      " [0.19376489 0.         0.23007242 0.45989159 0.        ]\n",
      " [0.20495768 0.23007242 0.         0.         0.28213395]\n",
      " [0.59837395 0.45989159 0.         0.         0.43932152]\n",
      " [0.2804574  0.         0.28213395 0.43932152 0.        ]]\n"
     ]
    }
   ],
   "source": [
    "print(initialize_map(0.3,5))"
   ]
  },
  {
   "cell_type": "markdown",
   "metadata": {},
   "source": [
    "## Generar la población inicial\n",
    "\n",
    "La función `create_new_member` crea una nueva ruta aleatoria (con cualquier cantidad de pasos).\n",
    "la estructura de la ruta será un vector de enteros donde cada valor es el siguiente paso en la ruta.\n",
    "\n",
    "Todos comienzan en 0, por lo que el primer valor en el vector indicará a dónde intentar ir después.\n",
    "Es decir, si $v_{i}$ = 4, eso correspondería a $x_{0,4}$ en el mapa que se creó en la inicialización.\n",
    "    \n",
    "N es el tamaño del mapa, por lo que se debe asegurar que no se genere ningún valor que exceda el tamaño del mapa.\n",
    "\n",
    "\n",
    "\n",
    "La función `create_starting_population` simplemente crea una población de diferentes rutas de un tamaño fijo."
   ]
  },
  {
   "cell_type": "markdown",
   "metadata": {},
   "source": [
    "<img style=\"float:left;\" src=\"codigo_practica_img/codigo_practica_img2.png\"> </img>"
   ]
  },
  {
   "cell_type": "markdown",
   "metadata": {},
   "source": [
    "<img style=\"float:left;\" src=\"codigo_practica_img/codigo_practica_img3.png\"> </img>"
   ]
  },
  {
   "cell_type": "code",
   "execution_count": 47,
   "metadata": {},
   "outputs": [],
   "source": [
    "def create_new_member(the_map):\n",
    "    N=len(the_map)\n",
    "    route = np.zeros(1,dtype=int)\n",
    "    go= True\n",
    "    i=1\n",
    "    while go:\n",
    "        possible_values = np.nonzero(the_map[route[i-1]])\n",
    "        proposed_value = random.randint(0,len(possible_values[0])-1)\n",
    "        route = np.append(route, possible_values[0][proposed_value])\n",
    "        \n",
    "        if route[i] == N-1:\n",
    "            go=False\n",
    "        else:\n",
    "            i+=1\n",
    "    return route"
   ]
  },
  {
   "cell_type": "code",
   "execution_count": 44,
   "metadata": {},
   "outputs": [],
   "source": [
    "def create_starting_population(size, the_map):\n",
    "    population=[]\n",
    "    for i in range (0,size):\n",
    "        population.append(create_new_member(the_map))\n",
    "        \n",
    "    return population"
   ]
  },
  {
   "cell_type": "markdown",
   "metadata": {},
   "source": [
    "## Calcular aptitud"
   ]
  },
  {
   "cell_type": "markdown",
   "metadata": {},
   "source": [
    "<img style=\"float:left;\" src=\"codigo_practica_img/codigo_practica_img4.png\"> </img>"
   ]
  },
  {
   "cell_type": "markdown",
   "metadata": {},
   "source": [
    "<img style=\"float:left;\" src=\"codigo_practica_img/codigo_practica_img5.png\"> </img>"
   ]
  },
  {
   "cell_type": "code",
   "execution_count": 36,
   "metadata": {},
   "outputs": [],
   "source": [
    "def fitness (route,the_map):\n",
    "    score=0\n",
    "    for i in range (1,len(route)):\n",
    "        if (the_map[route[i-1]][route[i]]==0) and i != len (the_map)-1:\n",
    "            print(\"ADVERTENCIA: RUTA NO VALIDA\")\n",
    "            print(route)\n",
    "            print(the_map)\n",
    "        score = score + the_map[route[i-1]][route[i]]\n",
    "    return score"
   ]
  },
  {
   "cell_type": "code",
   "execution_count": 37,
   "metadata": {},
   "outputs": [],
   "source": [
    "def score_population(population, the_map):\n",
    "    scores = []\n",
    "    for i in range(0,len(population)):\n",
    "        scores += [fitness(population[i],the_map)]\n",
    "        \n",
    "    return scores"
   ]
  },
  {
   "cell_type": "markdown",
   "metadata": {},
   "source": [
    "## Selección"
   ]
  },
  {
   "cell_type": "markdown",
   "metadata": {},
   "source": [
    "<img style=\"float:left;\" src=\"codigo_practica_img/codigo_practica_img6.png\"> </img>"
   ]
  },
  {
   "cell_type": "code",
   "execution_count": 59,
   "metadata": {},
   "outputs": [],
   "source": [
    "def pick_mate(scores):\n",
    "    array = np.array(scores)\n",
    "    temp = array.argsort()\n",
    "    ranks = np.empty_like(temp)\n",
    "    ranks[temp] = np.arange(len(array))\n",
    "    \n",
    "    fitness = [len(ranks) - x for x in ranks]\n",
    "    cum_scores=copy.deepcopy(fitness)\n",
    "    for i in range (1,len(cum_scores)):\n",
    "        cum_scores[i] = fitness[i]+cum_scores[i-1]\n",
    "    probs = [x/cum_scores[-1] for x in cum_scores]\n",
    "    rand = random.random()\n",
    "    \n",
    "    for i in range (0,len(probs)):\n",
    "        if rand < probs [i]:\n",
    "            \n",
    "            return i\n",
    "    "
   ]
  },
  {
   "cell_type": "markdown",
   "metadata": {},
   "source": [
    "## Cruce\n",
    "\n",
    "Para este ejemplo, se debe asegurar que cuando las dos rutas se crucen, las rutas resultantes produzcan una **ruta válida**. Es decir, que los puntos de cruce deben estar en el mismo valor de posición en el mapa."
   ]
  },
  {
   "cell_type": "markdown",
   "metadata": {},
   "source": [
    "<img style=\"float:left;\" src=\"codigo_practica_img/codigo_practica_img7.png\"> </img>"
   ]
  },
  {
   "cell_type": "code",
   "execution_count": 68,
   "metadata": {},
   "outputs": [],
   "source": [
    "def crossover (a,b):\n",
    "    common_elements = set(a) & set(b)\n",
    "    \n",
    "    if len (common_elements)==2:\n",
    "        return (a,b)\n",
    "    else:\n",
    "        common_elements.remove(0)\n",
    "        common_elements.remove(max(a))\n",
    "        value=random.sample(common_elements,1)\n",
    "        \n",
    "    cut_a=np.random.choice(np.where(np.isin(a,value))[0])\n",
    "    cut_b=np.random.choice(np.where(np.isin(b,value))[0])\n",
    "    \n",
    "    new_a1 = copy.deepcopy(a[0:cut_a])\n",
    "    new_a2 = copy.deepcopy(b[cut_b:])\n",
    "    \n",
    "    new_b1 = copy.deepcopy(b[0:cut_b])\n",
    "    new_b2 = copy.deepcopy(a[cut_a:])\n",
    "    \n",
    "    new_a = np.append(new_a1,new_a2)\n",
    "    new_b = np.append(new_b1,new_b2)\n",
    "    \n",
    "    return (new_a,new_b)\n",
    "    "
   ]
  },
  {
   "cell_type": "markdown",
   "metadata": {},
   "source": [
    "## Mutación"
   ]
  },
  {
   "cell_type": "markdown",
   "metadata": {},
   "source": [
    "<img style=\"float:left;\" src=\"codigo_practica_img/codigo_practica_img8.png\"> </img>"
   ]
  },
  {
   "cell_type": "code",
   "execution_count": 71,
   "metadata": {},
   "outputs": [],
   "source": [
    "def mutate (route,probability, the_map):\n",
    "    new_route = copy.deepcopy(route)\n",
    "    for i in range (1, len (new_route)):\n",
    "        if random.random() < probability:\n",
    "            go = True\n",
    "            while go :\n",
    "                possible_values = np.nonzero (the_map[new_route[i-1]])\n",
    "                proposed_value = random.randint(0,len(possible_values[0])-1)\n",
    "                route = np.append(new_route, possible_values[0][proposed_value])\n",
    "                \n",
    "                if new_route[i] == len(the_map)-1:\n",
    "                    go = False\n",
    "                else:\n",
    "                    i += 1\n",
    "                    \n",
    "    return new_route"
   ]
  },
  {
   "cell_type": "markdown",
   "metadata": {},
   "source": [
    "## Graficar mejor ruta actual"
   ]
  },
  {
   "cell_type": "markdown",
   "metadata": {},
   "source": [
    "<img style=\"float:left;\" src=\"codigo_practica_img/codigo_practica_img9.png\"> </img>"
   ]
  },
  {
   "cell_type": "code",
   "execution_count": 53,
   "metadata": {},
   "outputs": [],
   "source": [
    "def plot_best(the_map,route,iteration_number):\n",
    "    ax = sns.heatmap(the_map)\n",
    "    \n",
    "    x=[0.5]+ [x+0.5 for x in route[0:len(route)-1]]+[len(the_map)-0.5]\n",
    "    y=[0.5]+ [x+0.5 for x in route[1:len(route)]]+[len(the_map)-0.5]\n",
    "    plt.plot(x,y, marker = 'o',linewidth = 4, markersize = 12, linestyle = \"-\", color= 'white')\n",
    "    plt.savefig('plots/new100plot_%i.png' % (iteration_number), dpi =300)\n",
    "    plt.show()"
   ]
  },
  {
   "cell_type": "markdown",
   "metadata": {},
   "source": [
    "# Ejecución principal"
   ]
  },
  {
   "cell_type": "code",
   "execution_count": 72,
   "metadata": {},
   "outputs": [],
   "source": [
    "def main():\n",
    "    \n",
    "    # parámetros\n",
    "    sparseness_of_map = 0.95\n",
    "    size_of_map = 100\n",
    "    population_size = 30\n",
    "    number_of_iterations = 50\n",
    "    number_of_couples = 9\n",
    "    number_of_winners_to_keep = 2\n",
    "    mutation_probability = 0.05\n",
    "    \n",
    "    # inicializar el mapa y guardarlo en una variable\n",
    "    the_map = initialize_map(sparseness_of_map, size_of_map)\n",
    "\n",
    "    # generar la población inicial\n",
    "    population = create_starting_population(population_size, the_map)\n",
    "\n",
    "    last_distance = 1000000000\n",
    "    # para un gran número de iteraciones hacer:\n",
    "        \n",
    "    for i in range(0,number_of_iterations):\n",
    "        new_population = []\n",
    "        \n",
    "        # evaluar la aptitud de la población actual\n",
    "        scores = score_population(population, the_map)\n",
    "\n",
    "        best = population[np.argmin(scores)]\n",
    "        number_of_moves = len(best)\n",
    "        distance = fitness(best, the_map)\n",
    "        \n",
    "        if distance != last_distance:\n",
    "            print('Iteración %i: La mejor actual es %i pasos para una distancia de %f' % (i, number_of_moves, distance))\n",
    "            plot_best(the_map, best, i)\n",
    "\n",
    "        # permitir que los miembros de la población se reproduzcan según su puntaje relativo\n",
    "            # es decir, si su puntaje es más alto, es más probable que se reproduzcan        \n",
    "        for j in range(0, number_of_couples):  \n",
    "            new_1, new_2 = crossover(population[pick_mate(scores)], population[pick_mate(scores)])\n",
    "            new_population = new_population + [new_1, new_2]\n",
    "  \n",
    "        # mutar\n",
    "        for j in range(0, len(new_population)):\n",
    "            new_population[j] = np.copy(mutate(new_population[j], 0.05, the_map))\n",
    "            \n",
    "        # mantener a los mejores miembros de la generación anterior\n",
    "        new_population += [population[np.argmin(scores)]]\n",
    "        for j in range(1, number_of_winners_to_keep):\n",
    "            keeper = pick_mate(scores)            \n",
    "            new_population += [population[keeper]]\n",
    "            \n",
    "        # agregar nuevos miembros al azar\n",
    "        while len(new_population) < population_size:\n",
    "            new_population += [create_new_member(the_map)]\n",
    "            \n",
    "        #reemplazar la antigua población con una copia\n",
    "        population = copy.deepcopy(new_population)\n",
    "                \n",
    "        last_distance = distance\n",
    "        \n",
    "    # graficar los resultados\n",
    "    "
   ]
  },
  {
   "cell_type": "markdown",
   "metadata": {},
   "source": [
    "Invocar a la función a la función main:\n",
    "\n",
    "Nota: Prueben cambiando los valores de los parametros en la celda anterior."
   ]
  },
  {
   "cell_type": "code",
   "execution_count": 73,
   "metadata": {
    "scrolled": false
   },
   "outputs": [
    {
     "name": "stdout",
     "output_type": "stream",
     "text": [
      "Iteración 0: La mejor actual es 7 pasos para una distancia de 3.837984\n"
     ]
    },
    {
     "data": {
      "image/png": "[encoded data removed]",
      "text/plain": [
       "<Figure size 432x288 with 2 Axes>"
      ]
     },
     "metadata": {
      "needs_background": "light"
     },
     "output_type": "display_data"
    },
    {
     "name": "stdout",
     "output_type": "stream",
     "text": [
      "Iteración 1: La mejor actual es 5 pasos para una distancia de 1.633759\n"
     ]
    },
    {
     "data": {
      "image/png": "[encoded data removed]",
      "text/plain": [
       "<Figure size 432x288 with 2 Axes>"
      ]
     },
     "metadata": {
      "needs_background": "light"
     },
     "output_type": "display_data"
    },
    {
     "name": "stdout",
     "output_type": "stream",
     "text": [
      "Iteración 12: La mejor actual es 4 pasos para una distancia de 0.914192\n"
     ]
    },
    {
     "data": {
      "image/png": "[encoded data removed]",
      "text/plain": [
       "<Figure size 432x288 with 2 Axes>"
      ]
     },
     "metadata": {
      "needs_background": "light"
     },
     "output_type": "display_data"
    }
   ],
   "source": [
    "main()"
   ]
  },
  {
   "cell_type": "code",
   "execution_count": null,
   "metadata": {},
   "outputs": [],
   "source": []
  }
 ],
 "metadata": {
  "kernelspec": {
   "display_name": "Python 3",
   "language": "python",
   "name": "python3"
  },
  "language_info": {
   "codemirror_mode": {
    "name": "ipython",
    "version": 3
   },
   "file_extension": ".py",
   "mimetype": "text/x-python",
   "name": "python",
   "nbconvert_exporter": "python",
   "pygments_lexer": "ipython3",
   "version": "3.7.6"
  }
 },
 "nbformat": 4,
 "nbformat_minor": 2
}
